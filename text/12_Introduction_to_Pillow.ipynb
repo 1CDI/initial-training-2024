{
 "cells": [
  {
   "cell_type": "markdown",
   "metadata": {},
   "source": [
    "# Pillow 入門\n",
    "\n",
    "Python Imaging Library (PIL) は、Pythonインタープリタで様々な画像ファイル形式をサポートし、\n",
    "強力な画像処理とグラフィック機能を提供するオープンソースライブラリです。\n",
    "PILと略されます。\n",
    "2009年9月にリリースされ、Pythonバージョン1.5から2.7までをサポートしています。\n",
    "PILの開発は2011年に停止され、その後継プロジェクトとしてPillowが進行し、Python 3.xバージョンをサポートしています。"
   ]
  },
  {
   "cell_type": "markdown",
   "metadata": {},
   "source": [
    "## インストール\n",
    "\n",
    "pipを通じてインストールを行います。\n",
    "\n",
    "```\n",
    "    pip install Pillow\n",
    "```\n",
    "\n",
    "Pillowは既に有名なPython画像分析ライブラリです。resize、scaleなどの様々な作業が可能です。最も良い点は、Jupyter Notebookで画像を直接確認でき、変更された画像の確認が非常に簡単であることです。"
   ]
  },
  {
   "cell_type": "markdown",
   "metadata": {},
   "source": [
    "## サポートする画像形式\n",
    "\n",
    "PPM、PNG、JPEG、GIF、TIFF、BMPなどの画像形式をサポートしています。サポートしていないファイル形式は、ライブラリを拡張して新しいファイルデコーダを作成することが可能です。\n",
    "\n",
    "## 機能\n",
    "以下のような機能を提供しています。\n",
    "\n",
    "- ピクセル単位の操作\n",
    "- マスキングと透明度制御\n",
    "- ブラー、輪郭補正、輪郭検出などの画像フィルタ\n",
    "- 明度調整、輝度補正、コントラスト補正、色補正などの画像調整\n",
    "- 画像にテキストを追加\n",
    "- その他"
   ]
  },
  {
   "cell_type": "markdown",
   "metadata": {},
   "source": [
    "## 画像を開く"
   ]
  },
  {
   "cell_type": "markdown",
   "id": "4e29dd4e",
   "metadata": {},
   "source": [
    "\n",
    "以下のコードは、Pillowを用いて画像ファイルを開く基本的な例です。`Image.open()`関数は、画像ファイルのパスを引数にとり、画像ファイルを開きます。この関数は、開かれた画像ファイルを表す`Image`オブジェクトを返します。最後に、`show()`メソッドを用いて画像を表示します。\n",
    "\n",
    "この例では、`'/path/to/your/image.jpg'`を適切な画像ファイルパスに置き換える必要があります。このパスは、画像ファイルの絶対パスでも相対パスでもかまいません。\n",
    "\n",
    "このコードを実行すると、指定した画像が新しいウィンドウで開きます。\n"
   ]
  },
  {
   "cell_type": "code",
   "execution_count": null,
   "id": "3cb867e5",
   "metadata": {},
   "outputs": [],
   "source": [
    "\n",
    "# Importing the necessary libraries\n",
    "from PIL import Image\n",
    "\n",
    "# Open an image file\n",
    "img = Image.open('/path/to/your/image.jpg')  # Please replace with your image path\n",
    "img.show()\n"
   ]
  },
  {
   "cell_type": "markdown",
   "metadata": {},
   "source": [
    "## 画像の属性を取得"
   ]
  },
  {
   "cell_type": "markdown",
   "id": "a98453ae",
   "metadata": {},
   "source": [
    "\n",
    "以下のコードは、Pillowを用いて画像の属性を取得する基本的な例です。\n",
    "\n",
    "- `format`属性は、画像の形式（JPEG、BMP、PNGなど）を表します。\n",
    "- `mode`属性は、画像のモード（L、RGB、CMYKなど）を表します。これは、各ピクセルがどのように格納されているかを示しています。例えば、'L'はグレースケール画像を、'RGB'は赤、緑、青の各成分を持つ画像を示します。\n",
    "- `size`属性は、画像のサイズ（幅と高さ）をピクセル単位で表します。\n",
    "\n",
    "このコードは、前のセルで開かれた画像（`img`オブジェクト）のこれらの属性を出力します。\n"
   ]
  },
  {
   "cell_type": "code",
   "execution_count": null,
   "id": "1528c1e1",
   "metadata": {},
   "outputs": [],
   "source": [
    "\n",
    "# Get the image attributes\n",
    "print(f\"Image format: {img.format}\")\n",
    "print(f\"Image mode: {img.mode}\")\n",
    "print(f\"Image size: {img.size}\")\n"
   ]
  },
  {
   "cell_type": "markdown",
   "metadata": {},
   "source": [
    "## 画像のサイズを変更"
   ]
  },
  {
   "cell_type": "markdown",
   "id": "2568d0f5",
   "metadata": {},
   "source": [
    "\n",
    "以下のコードは、Pillowを用いて画像のサイズを変更する基本的な例です。`resize()`メソッドは、新しいサイズ（幅と高さ）を引数にとり、画像のサイズを変更します。このメソッドは、サイズが変更された新しい`Image`オブジェクトを返します。\n",
    "\n",
    "この例では、新しいサイズを`(500, 500)`（幅500ピクセル、高さ500ピクセル）に設定しています。この値は、必要に応じて適切な値に変更できます。\n",
    "\n",
    "このコードを実行すると、リサイズされた画像が新しいウィンドウで開きます。\n"
   ]
  },
  {
   "cell_type": "code",
   "execution_count": null,
   "id": "9cc700ec",
   "metadata": {},
   "outputs": [],
   "source": [
    "\n",
    "# Resize the image\n",
    "new_size = (500, 500)\n",
    "img_resized = img.resize(new_size)\n",
    "img_resized.show()\n"
   ]
  },
  {
   "cell_type": "markdown",
   "metadata": {},
   "source": [
    "## 画像を回転"
   ]
  },
  {
   "cell_type": "markdown",
   "id": "d7488922",
   "metadata": {},
   "source": [
    "\n",
    "以下のコードは、Pillowを用いて画像を回転させる基本的な例です。`rotate()`メソッドは、回転の角度を引数にとり、画像を反時計回りに回転させます。このメソッドは、回転後の新しい`Image`オブジェクトを返します。\n",
    "\n",
    "この例では、回転の角度を45度に設定しています。この値は、必要に応じて適切な値に変更できます。\n",
    "\n",
    "このコードを実行すると、回転した画像が新しいウィンドウで開きます。\n"
   ]
  },
  {
   "cell_type": "code",
   "execution_count": null,
   "id": "02498970",
   "metadata": {},
   "outputs": [],
   "source": [
    "\n",
    "# Rotate the image\n",
    "angle = 45  # Rotate by 45 degrees\n",
    "img_rotated = img.rotate(angle)\n",
    "img_rotated.show()\n"
   ]
  },
  {
   "cell_type": "markdown",
   "metadata": {},
   "source": [
    "## 画像を上下，左右に反転 (Flip)"
   ]
  },
  {
   "cell_type": "markdown",
   "id": "24b2a255",
   "metadata": {},
   "source": [
    "\n",
    "以下のコードは、Pillowを用いて画像を水平に反転（左右反転）または垂直に反転（上下反転）させる基本的な例です。`transpose()`メソッドは、反転の方法を指定するための引数をとり、画像を反転させます。このメソッドは、反転後の新しい`Image`オブジェクトを返します。\n",
    "\n",
    "この例では、まず画像を水平に反転（左右反転）させ、次に垂直に反転（上下反転）させています。\n",
    "\n",
    "このコードを実行すると、反転した画像が新しいウィンドウで開きます。\n"
   ]
  },
  {
   "cell_type": "code",
   "execution_count": null,
   "id": "46f60397",
   "metadata": {},
   "outputs": [],
   "source": [
    "\n",
    "# Flip the image horizontally\n",
    "img_flipped_horizontal = img.transpose(Image.FLIP_LEFT_RIGHT)\n",
    "img_flipped_horizontal.show()\n",
    "\n",
    "# Flip the image vertically\n",
    "img_flipped_vertical = img.transpose(Image.FLIP_TOP_BOTTOM)\n",
    "img_flipped_vertical.show()\n"
   ]
  },
  {
   "cell_type": "markdown",
   "metadata": {},
   "source": [
    "## 画像を切り取る (Crop)"
   ]
  },
  {
   "cell_type": "markdown",
   "id": "12ede6d3",
   "metadata": {},
   "source": [
    "\n",
    "以下のコードは、Pillowを用いて画像を切り取る基本的な例です。`crop()`メソッドは、切り取りたい領域を表す四つ組（左、上、右、下）を引数にとり、画像からその領域を切り取ります。このメソッドは、切り取られた新しい`Image`オブジェクトを返します。\n",
    "\n",
    "この例では、切り取りたい領域を`(50, 50, 200, 200)`（左50ピクセル、上50ピクセル、右200ピクセル、下200ピクセル）に設定しています。この値は、必要に応じて適切な値に変更できます。\n",
    "\n",
    "このコードを実行すると、切り取られた画像が新しいウィンドウで開きます。\n"
   ]
  },
  {
   "cell_type": "code",
   "execution_count": null,
   "id": "e941397e",
   "metadata": {},
   "outputs": [],
   "source": [
    "\n",
    "# Crop the image\n",
    "crop_rectangle = (50, 50, 200, 200)  # (left, upper, right, lower)\n",
    "img_cropped = img.crop(crop_rectangle)\n",
    "img_cropped.show()\n"
   ]
  },
  {
   "cell_type": "markdown",
   "metadata": {},
   "source": [
    "## ボックスを描画"
   ]
  },
  {
   "cell_type": "markdown",
   "id": "aa4f83b7",
   "metadata": {},
   "source": [
    "\n",
    "以下のコードは、Pillowを用いて画像上にボックス（矩形）を描画する基本的な例です。まず、`ImageDraw.Draw()`関数を用いて`ImageDraw`オブジェクトを作成します。次に、このオブジェクトの`rectangle()`メソッドを用いてボックスを描画します。このメソッドの第一引数は、ボックスの左上と右下の座標を表す二つ組のペアです。第二引数は、ボックスの色を指定します。\n",
    "\n",
    "この例では、ボックスの左上の座標を`(50, 50)`、右下の座標を`(200, 200)`に設定し、ボックスの色を赤に設定しています。\n",
    "\n",
    "このコードを実行すると、ボックスが描画された画像が新しいウィンドウで開きます。\n"
   ]
  },
  {
   "cell_type": "code",
   "execution_count": null,
   "id": "9bd927e1",
   "metadata": {},
   "outputs": [],
   "source": [
    "\n",
    "# Draw a box on the image\n",
    "from PIL import ImageDraw\n",
    "\n",
    "draw = ImageDraw.Draw(img)\n",
    "draw.rectangle(((50, 50), (200, 200)), outline=\"red\")\n",
    "\n",
    "img.show()\n"
   ]
  },
  {
   "cell_type": "markdown",
   "metadata": {},
   "source": [
    "## 画像フィルタリング"
   ]
  },
  {
   "cell_type": "markdown",
   "id": "1a08de26",
   "metadata": {},
   "source": [
    "\n",
    "以下のコードは、Pillowを用いて画像にフィルタを適用する基本的な例です。`filter()`メソッドは、フィルタを引数にとり、画像にフィルタを適用します。このメソッドは、フィルタが適用された新しい`Image`オブジェクトを返します。\n",
    "\n",
    "この例では、`ImageFilter.BLUR`フィルタを適用して画像をぼかしています。\n",
    "\n",
    "このコードを実行すると、フィルタが適用された画像が新しいウィンドウで開きます。\n"
   ]
  },
  {
   "cell_type": "code",
   "execution_count": null,
   "id": "f7b189dd",
   "metadata": {},
   "outputs": [],
   "source": [
    "\n",
    "# Apply an image filter\n",
    "from PIL import ImageFilter\n",
    "\n",
    "img_blurred = img.filter(ImageFilter.BLUR)\n",
    "img_blurred.show()\n"
   ]
  },
  {
   "cell_type": "markdown",
   "metadata": {},
   "source": [
    "## 画像を結合"
   ]
  },
  {
   "cell_type": "markdown",
   "id": "7fcb2e64",
   "metadata": {},
   "source": [
    "\n",
    "以下のコードは、Pillowを用いて二つの画像を結合する基本的な例です。`Image.blend()`関数は、二つの画像と透明度の値を引数にとり、二つの画像を結合します。この関数は、結合された新しい`Image`オブジェクトを返します。\n",
    "\n",
    "この例では、二つの画像（`img1`と`img2`）を結合し、透明度（`alpha`）を0.5に設定しています。\n",
    "\n",
    "このコードを実行すると、結合された画像が新しいウィンドウで開きます。\n"
   ]
  },
  {
   "cell_type": "code",
   "execution_count": null,
   "id": "7a1644b4",
   "metadata": {},
   "outputs": [],
   "source": [
    "\n",
    "# Combine images\n",
    "img1 = Image.open('/path/to/your/image1.jpg')  # Please replace with your image path\n",
    "img2 = Image.open('/path/to/your/image2.jpg')  # Please replace with your image path\n",
    "\n",
    "img_combined = Image.blend(img1, img2, alpha=0.5)\n",
    "img_combined.show()\n"
   ]
  },
  {
   "cell_type": "markdown",
   "metadata": {},
   "source": [
    "## 画像を保存"
   ]
  },
  {
   "cell_type": "markdown",
   "id": "2e042cbb",
   "metadata": {},
   "source": [
    "\n",
    "以下のコードは、Pillowを用いて画像を保存する基本的な例です。`save()`メソッドは、画像を保存したいファイルのパスを引数にとり、画像をそのファイルに保存します。\n",
    "\n",
    "この例では、`'/path/to/your/image_saved.jpg'`を適切なファイルパスに置き換える必要があります。このパスは、保存したい画像ファイルの絶対パスでも相対パスでもかまいません。\n",
    "\n",
    "このコードを実行すると、画像が指定したファイルパスに保存されます。\n"
   ]
  },
  {
   "cell_type": "code",
   "execution_count": null,
   "id": "1c968605",
   "metadata": {},
   "outputs": [],
   "source": [
    "\n",
    "# Save the image\n",
    "img.save('/path/to/your/image_saved.jpg')  # Please replace with your image path\n"
   ]
  },
  {
   "cell_type": "markdown",
   "metadata": {},
   "source": [
    "## 画像を Numpy 配列に変換"
   ]
  },
  {
   "cell_type": "markdown",
   "id": "416eea5b",
   "metadata": {},
   "source": [
    "\n",
    "以下のコードは、PillowとNumpyを用いて画像をNumpy配列に変換する基本的な例です。Numpyの`array()`関数は、`Image`オブジェクトを引数にとり、それをNumpy配列に変換します。\n",
    "\n",
    "このコードを実行すると、画像のデータがNumpy配列として表示されます。各ピクセルの値は、RGB色空間に基づいて3つの整数（赤、緑、青の各成分）で表されます。\n"
   ]
  },
  {
   "cell_type": "code",
   "execution_count": null,
   "id": "8a373841",
   "metadata": {},
   "outputs": [],
   "source": [
    "\n",
    "# Convert the image to a Numpy array\n",
    "import numpy as np\n",
    "\n",
    "img_array = np.array(img)\n",
    "print(img_array)\n"
   ]
  },
  {
   "cell_type": "markdown",
   "metadata": {},
   "source": [
    "## 特定の画素の RGB 値を取得"
   ]
  },
  {
   "cell_type": "markdown",
   "id": "97fa6741",
   "metadata": {},
   "source": [
    "\n",
    "以下のコードは、Pillowを用いて特定のピクセルのRGB値を取得する基本的な例です。`getpixel()`メソッドは、ピクセルの座標（x, y）を引数にとり、そのピクセルの色をRGB値として返します。\n",
    "\n",
    "この例では、座標（50, 50）のピクセルのRGB値を取得しています。これらの値は、必要に応じて適切な値に変更できます。\n",
    "\n",
    "このコードを実行すると、指定したピクセルのRGB値が表示されます。\n"
   ]
  },
  {
   "cell_type": "code",
   "execution_count": null,
   "id": "aea51d16",
   "metadata": {},
   "outputs": [],
   "source": [
    "\n",
    "# Get the RGB value of a specific pixel\n",
    "x = 50\n",
    "y = 50\n",
    "rgb = img.getpixel((x, y))\n",
    "print(rgb)\n"
   ]
  },
  {
   "cell_type": "markdown",
   "metadata": {},
   "source": [
    "## 画像のヒストグラムの取得\n",
    "\n",
    "画像のヒストグラムは、画像の輝度の分布を視覚的に理解するために役立ちます。ヒストグラムは、特定の輝度値を持つピクセルの数を示します。以下のコードは、Pillowを用いて画像のヒストグラムを取得し、matplotlibを用いてヒストグラムを表示する基本的な例です。"
   ]
  },
  {
   "cell_type": "code",
   "execution_count": 1,
   "metadata": {},
   "outputs": [
    {
     "ename": "NameError",
     "evalue": "name 'img' is not defined",
     "output_type": "error",
     "traceback": [
      "\u001b[0;31m---------------------------------------------------------------------------\u001b[0m",
      "\u001b[0;31mNameError\u001b[0m                                 Traceback (most recent call last)",
      "Cell \u001b[0;32mIn[1], line 4\u001b[0m\n\u001b[1;32m      1\u001b[0m \u001b[39mimport\u001b[39;00m \u001b[39mmatplotlib\u001b[39;00m\u001b[39m.\u001b[39;00m\u001b[39mpyplot\u001b[39;00m \u001b[39mas\u001b[39;00m \u001b[39mplt\u001b[39;00m\n\u001b[1;32m      3\u001b[0m \u001b[39m# Get the image histogram\u001b[39;00m\n\u001b[0;32m----> 4\u001b[0m histogram \u001b[39m=\u001b[39m img\u001b[39m.\u001b[39mhistogram()\n\u001b[1;32m      6\u001b[0m \u001b[39m# Plot the histogram\u001b[39;00m\n\u001b[1;32m      7\u001b[0m plt\u001b[39m.\u001b[39mfigure(figsize\u001b[39m=\u001b[39m(\u001b[39m10\u001b[39m, \u001b[39m6\u001b[39m))\n",
      "\u001b[0;31mNameError\u001b[0m: name 'img' is not defined"
     ]
    }
   ],
   "source": [
    "import matplotlib.pyplot as plt\n",
    "\n",
    "# Get the image histogram\n",
    "histogram = img.histogram()\n",
    "\n",
    "# Plot the histogram\n",
    "plt.figure(figsize=(10, 6))\n",
    "plt.bar(range(256), histogram)\n",
    "plt.title('Image Histogram')\n",
    "plt.show()\n"
   ]
  },
  {
   "cell_type": "markdown",
   "metadata": {},
   "source": [
    "## 色空間の変換\n",
    "\n",
    "色空間の変換は、画像処理においてよく使用される技術です。RGB色空間からHSV色空間などの他の色空間への変換を行うことで、色に関する特定の特徴を強調することができます。以下のコードは、Pillowを用いてRGB色空間からHSV色空間への変換を行う基本的な例です。"
   ]
  },
  {
   "cell_type": "code",
   "execution_count": null,
   "metadata": {},
   "outputs": [],
   "source": [
    "# Convert the color space of the image from RGB to HSV\n",
    "img_hsv = img.convert('HSV')\n",
    "img_hsv.show()"
   ]
  },
  {
   "cell_type": "markdown",
   "metadata": {},
   "source": [
    "## 画像の二値化\n",
    "\n",
    "二値化は画像を単純化し、特定の操作を高速化するために使用されます。二値化は画像の各ピクセルを「白」または「黒」のいずれかに変換するプロセスです。これはしきい値を設定し、そのしきい値と比較することで行われます。以下のコードは、Pillowを用いて画像の二値化を行う基本的な例です。"
   ]
  },
  {
   "cell_type": "code",
   "execution_count": null,
   "metadata": {},
   "outputs": [],
   "source": [
    "# Binarize the image\n",
    "threshold = 127\n",
    "img_binarized = img.point(lambda x: 0 if x < threshold else 255)\n",
    "img_binarized.show()"
   ]
  }
 ],
 "metadata": {
  "kernelspec": {
   "display_name": "venv",
   "language": "python",
   "name": "python3"
  },
  "language_info": {
   "codemirror_mode": {
    "name": "ipython",
    "version": 3
   },
   "file_extension": ".py",
   "mimetype": "text/x-python",
   "name": "python",
   "nbconvert_exporter": "python",
   "pygments_lexer": "ipython3",
   "version": "3.9.10"
  }
 },
 "nbformat": 4,
 "nbformat_minor": 2
}
